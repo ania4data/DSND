{
 "cells": [
  {
   "cell_type": "markdown",
   "metadata": {},
   "source": [
    "# Hierarchical Clustering Lab\n",
    "In this notebook, we will be using sklearn to conduct hierarchical clustering on the [Iris dataset](https://archive.ics.uci.edu/ml/datasets/iris) which contains 4 dimensions/attributes and 150 samples. Each sample is labeled as one of the three type of Iris flowers.\n",
    "\n",
    "In this exercise, we'll ignore the labeling and cluster based on the attributes, then we'll compare the results of different hierarchical clustering techniques with the original labels to see which one does a better job in this scenario. We'll then proceed to visualize the resulting cluster hierarchies.\n",
    "\n",
    "## 1. Importing the Iris dataset\n"
   ]
  },
  {
   "cell_type": "code",
   "execution_count": 1,
   "metadata": {},
   "outputs": [],
   "source": [
    "from sklearn import datasets\n",
    "\n",
    "iris = datasets.load_iris()"
   ]
  },
  {
   "cell_type": "markdown",
   "metadata": {},
   "source": [
    "A look at the first 10 samples in the dataset"
   ]
  },
  {
   "cell_type": "code",
   "execution_count": 2,
   "metadata": {},
   "outputs": [
    {
     "data": {
      "text/plain": [
       "array([[ 5.1,  3.5,  1.4,  0.2],\n",
       "       [ 4.9,  3. ,  1.4,  0.2],\n",
       "       [ 4.7,  3.2,  1.3,  0.2],\n",
       "       [ 4.6,  3.1,  1.5,  0.2],\n",
       "       [ 5. ,  3.6,  1.4,  0.2],\n",
       "       [ 5.4,  3.9,  1.7,  0.4],\n",
       "       [ 4.6,  3.4,  1.4,  0.3],\n",
       "       [ 5. ,  3.4,  1.5,  0.2],\n",
       "       [ 4.4,  2.9,  1.4,  0.2],\n",
       "       [ 4.9,  3.1,  1.5,  0.1]])"
      ]
     },
     "execution_count": 2,
     "metadata": {},
     "output_type": "execute_result"
    }
   ],
   "source": [
    "iris.data[:10]"
   ]
  },
  {
   "cell_type": "markdown",
   "metadata": {},
   "source": [
    "```iris.target``` contains the labels that indicate which type of Iris flower each sample is"
   ]
  },
  {
   "cell_type": "code",
   "execution_count": 3,
   "metadata": {},
   "outputs": [
    {
     "data": {
      "text/plain": [
       "array([0, 0, 0, 0, 0, 0, 0, 0, 0, 0, 0, 0, 0, 0, 0, 0, 0, 0, 0, 0, 0, 0, 0,\n",
       "       0, 0, 0, 0, 0, 0, 0, 0, 0, 0, 0, 0, 0, 0, 0, 0, 0, 0, 0, 0, 0, 0, 0,\n",
       "       0, 0, 0, 0, 1, 1, 1, 1, 1, 1, 1, 1, 1, 1, 1, 1, 1, 1, 1, 1, 1, 1, 1,\n",
       "       1, 1, 1, 1, 1, 1, 1, 1, 1, 1, 1, 1, 1, 1, 1, 1, 1, 1, 1, 1, 1, 1, 1,\n",
       "       1, 1, 1, 1, 1, 1, 1, 1, 2, 2, 2, 2, 2, 2, 2, 2, 2, 2, 2, 2, 2, 2, 2,\n",
       "       2, 2, 2, 2, 2, 2, 2, 2, 2, 2, 2, 2, 2, 2, 2, 2, 2, 2, 2, 2, 2, 2, 2,\n",
       "       2, 2, 2, 2, 2, 2, 2, 2, 2, 2, 2, 2])"
      ]
     },
     "execution_count": 3,
     "metadata": {},
     "output_type": "execute_result"
    }
   ],
   "source": [
    "iris.target"
   ]
  },
  {
   "cell_type": "markdown",
   "metadata": {},
   "source": [
    "## 2. Clustering\n",
    "Let's now use sklearn's [```AgglomerativeClustering```](http://scikit-learn.org/stable/modules/generated/sklearn.cluster.AgglomerativeClustering.html) to conduct the heirarchical clustering"
   ]
  },
  {
   "cell_type": "code",
   "execution_count": 9,
   "metadata": {},
   "outputs": [],
   "source": [
    "from sklearn.cluster import AgglomerativeClustering\n",
    "\n",
    "# Hierarchical clustering\n",
    "# Ward is the default linkage algorithm, so we'll start with that\n",
    "ward = AgglomerativeClustering(n_clusters=3)\n",
    "ward_pred = ward.fit_predict(iris.data)"
   ]
  },
  {
   "cell_type": "markdown",
   "metadata": {},
   "source": [
    "Let's also try complete and average linkages\n",
    "\n",
    "**Exercise**:\n",
    "* Conduct hierarchical clustering with complete linkage, store the predicted labels in the variable ```complete_pred```\n",
    "* Conduct hierarchical clustering with average linkage, store the predicted labels in the variable ```avg_pred```\n",
    "\n",
    "Note: look at the documentation of [```AgglomerativeClustering```](http://scikit-learn.org/stable/modules/generated/sklearn.cluster.AgglomerativeClustering.html) to find the appropriate value to pass as the ```linkage``` value"
   ]
  },
  {
   "cell_type": "code",
   "execution_count": 10,
   "metadata": {},
   "outputs": [],
   "source": [
    "# Hierarchical clustering using complete linkage\n",
    "# TODO: Create an instance of AgglomerativeClustering with the appropriate parameters\n",
    "complete = AgglomerativeClustering(n_clusters=3)\n",
    "# Fit & predict\n",
    "# TODO: Make AgglomerativeClustering fit the dataset and predict the cluster labels\n",
    "complete_pred = complete.fit_predict(iris.data)\n",
    "\n",
    "# Hierarchical clustering using average linkage\n",
    "# TODO: Create an instance of AgglomerativeClustering with the appropriate parameters\n",
    "avg = AgglomerativeClustering(n_clusters=3)\n",
    "# Fit & predict\n",
    "# TODO: Make AgglomerativeClustering fit the dataset and predict the cluster labels\n",
    "avg_pred = avg.fit_predict(iris.data)"
   ]
  },
  {
   "cell_type": "markdown",
   "metadata": {},
   "source": [
    "To determine which clustering result better matches the original labels of the samples, we can use ```adjusted_rand_score``` which is an *external cluster validation index* which results in a score between -1 and 1, where 1 means two clusterings are identical of how they grouped the samples in a dataset (regardless of what label is assigned to each cluster).\n",
    "\n",
    "Cluster validation indices are discussed later in the course."
   ]
  },
  {
   "cell_type": "code",
   "execution_count": 11,
   "metadata": {},
   "outputs": [],
   "source": [
    "from sklearn.metrics import adjusted_rand_score\n",
    "\n",
    "ward_ar_score = adjusted_rand_score(iris.target, ward_pred)"
   ]
  },
  {
   "cell_type": "markdown",
   "metadata": {},
   "source": [
    "**Exercise**:\n",
    "* Calculate the Adjusted Rand score of the clusters resulting from complete linkage and average linkage"
   ]
  },
  {
   "cell_type": "code",
   "execution_count": 13,
   "metadata": {},
   "outputs": [],
   "source": [
    "# TODO: Calculated the adjusted Rand score for the complete linkage clustering labels\n",
    "complete_ar_score = adjusted_rand_score(iris.target,complete_pred)\n",
    "\n",
    "# TODO: Calculated the adjusted Rand score for the average linkage clustering labels\n",
    "avg_ar_score = adjusted_rand_score(iris.target,avg_pred)"
   ]
  },
  {
   "cell_type": "markdown",
   "metadata": {},
   "source": [
    "Which algorithm results in the higher Adjusted Rand Score?"
   ]
  },
  {
   "cell_type": "code",
   "execution_count": 14,
   "metadata": {},
   "outputs": [
    {
     "name": "stdout",
     "output_type": "stream",
     "text": [
      "Scores: \n",
      "Ward: 0.731198556771 \n",
      "Complete:  0.731198556771 \n",
      "Average:  0.731198556771\n"
     ]
    }
   ],
   "source": [
    "print( \"Scores: \\nWard:\", ward_ar_score,\"\\nComplete: \", complete_ar_score, \"\\nAverage: \", avg_ar_score)"
   ]
  },
  {
   "cell_type": "markdown",
   "metadata": {},
   "source": [
    "## 3. The Effect of Normalization on Clustering\n",
    "\n",
    "Can we improve on this clustering result?\n",
    "\n",
    "Let's take another look at the dataset"
   ]
  },
  {
   "cell_type": "code",
   "execution_count": 48,
   "metadata": {},
   "outputs": [
    {
     "data": {
      "text/html": [
       "<div>\n",
       "<style>\n",
       "    .dataframe thead tr:only-child th {\n",
       "        text-align: right;\n",
       "    }\n",
       "\n",
       "    .dataframe thead th {\n",
       "        text-align: left;\n",
       "    }\n",
       "\n",
       "    .dataframe tbody tr th {\n",
       "        vertical-align: top;\n",
       "    }\n",
       "</style>\n",
       "<table border=\"1\" class=\"dataframe\">\n",
       "  <thead>\n",
       "    <tr style=\"text-align: right;\">\n",
       "      <th></th>\n",
       "      <th>0</th>\n",
       "      <th>1</th>\n",
       "      <th>2</th>\n",
       "      <th>3</th>\n",
       "    </tr>\n",
       "  </thead>\n",
       "  <tbody>\n",
       "    <tr>\n",
       "      <th>count</th>\n",
       "      <td>150.000000</td>\n",
       "      <td>150.000000</td>\n",
       "      <td>150.000000</td>\n",
       "      <td>150.000000</td>\n",
       "    </tr>\n",
       "    <tr>\n",
       "      <th>mean</th>\n",
       "      <td>5.843333</td>\n",
       "      <td>3.054000</td>\n",
       "      <td>3.758667</td>\n",
       "      <td>1.198667</td>\n",
       "    </tr>\n",
       "    <tr>\n",
       "      <th>std</th>\n",
       "      <td>0.828066</td>\n",
       "      <td>0.433594</td>\n",
       "      <td>1.764420</td>\n",
       "      <td>0.763161</td>\n",
       "    </tr>\n",
       "    <tr>\n",
       "      <th>min</th>\n",
       "      <td>4.300000</td>\n",
       "      <td>2.000000</td>\n",
       "      <td>1.000000</td>\n",
       "      <td>0.100000</td>\n",
       "    </tr>\n",
       "    <tr>\n",
       "      <th>25%</th>\n",
       "      <td>5.100000</td>\n",
       "      <td>2.800000</td>\n",
       "      <td>1.600000</td>\n",
       "      <td>0.300000</td>\n",
       "    </tr>\n",
       "    <tr>\n",
       "      <th>50%</th>\n",
       "      <td>5.800000</td>\n",
       "      <td>3.000000</td>\n",
       "      <td>4.350000</td>\n",
       "      <td>1.300000</td>\n",
       "    </tr>\n",
       "    <tr>\n",
       "      <th>75%</th>\n",
       "      <td>6.400000</td>\n",
       "      <td>3.300000</td>\n",
       "      <td>5.100000</td>\n",
       "      <td>1.800000</td>\n",
       "    </tr>\n",
       "    <tr>\n",
       "      <th>max</th>\n",
       "      <td>7.900000</td>\n",
       "      <td>4.400000</td>\n",
       "      <td>6.900000</td>\n",
       "      <td>2.500000</td>\n",
       "    </tr>\n",
       "  </tbody>\n",
       "</table>\n",
       "</div>"
      ],
      "text/plain": [
       "                0           1           2           3\n",
       "count  150.000000  150.000000  150.000000  150.000000\n",
       "mean     5.843333    3.054000    3.758667    1.198667\n",
       "std      0.828066    0.433594    1.764420    0.763161\n",
       "min      4.300000    2.000000    1.000000    0.100000\n",
       "25%      5.100000    2.800000    1.600000    0.300000\n",
       "50%      5.800000    3.000000    4.350000    1.300000\n",
       "75%      6.400000    3.300000    5.100000    1.800000\n",
       "max      7.900000    4.400000    6.900000    2.500000"
      ]
     },
     "execution_count": 48,
     "metadata": {},
     "output_type": "execute_result"
    }
   ],
   "source": [
    "import matplotlib.pyplot as plt\n",
    "#plt.hist(iris.data[0,:],bins=100)\n",
    "iris.data[:10]\n",
    "dg=pd.DataFrame(iris.data)\n",
    "dg.describe()"
   ]
  },
  {
   "cell_type": "markdown",
   "metadata": {},
   "source": [
    "Looking at this, we can see that the forth column has smaller values than the rest of the columns, and so its variance counts for less in the clustering process (since clustering is based on distance). Let us [normalize](https://en.wikipedia.org/wiki/Feature_scaling) the dataset so that each dimension lies between 0 and 1, so they have equal weight in the clustering process.\n",
    "\n",
    "This is done by subtracting the minimum from each column then dividing the difference by the range.\n",
    "\n",
    "sklearn provides us with a useful utility called ```preprocessing.normalize()``` that can do that for us"
   ]
  },
  {
   "cell_type": "code",
   "execution_count": 51,
   "metadata": {},
   "outputs": [
    {
     "name": "stdout",
     "output_type": "stream",
     "text": [
      "[[ 0.80377277  0.55160877  0.22064351  0.0315205 ]\n",
      " [ 0.82813287  0.50702013  0.23660939  0.03380134]\n",
      " [ 0.80533308  0.54831188  0.2227517   0.03426949]\n",
      " [ 0.80003025  0.53915082  0.26087943  0.03478392]\n",
      " [ 0.790965    0.5694948   0.2214702   0.0316386 ]\n",
      " [ 0.78417499  0.5663486   0.2468699   0.05808704]\n",
      " [ 0.78010936  0.57660257  0.23742459  0.0508767 ]\n",
      " [ 0.80218492  0.54548574  0.24065548  0.0320874 ]\n",
      " [ 0.80642366  0.5315065   0.25658935  0.03665562]\n",
      " [ 0.81803119  0.51752994  0.25041771  0.01669451]]\n"
     ]
    },
    {
     "data": {
      "text/plain": [
       "array([ 1.,  1.,  1.,  1.,  1.,  1.,  1.,  1.,  1.,  1.,  1.,  1.,  1.,\n",
       "        1.,  1.,  1.,  1.,  1.,  1.,  1.,  1.,  1.,  1.,  1.,  1.,  1.,\n",
       "        1.,  1.,  1.,  1.,  1.,  1.,  1.,  1.,  1.,  1.,  1.,  1.,  1.,\n",
       "        1.,  1.,  1.,  1.,  1.,  1.,  1.,  1.,  1.,  1.,  1.,  1.,  1.,\n",
       "        1.,  1.,  1.,  1.,  1.,  1.,  1.,  1.,  1.,  1.,  1.,  1.,  1.,\n",
       "        1.,  1.,  1.,  1.,  1.,  1.,  1.,  1.,  1.,  1.,  1.,  1.,  1.,\n",
       "        1.,  1.,  1.,  1.,  1.,  1.,  1.,  1.,  1.,  1.,  1.,  1.,  1.,\n",
       "        1.,  1.,  1.,  1.,  1.,  1.,  1.,  1.,  1.,  1.,  1.,  1.,  1.,\n",
       "        1.,  1.,  1.,  1.,  1.,  1.,  1.,  1.,  1.,  1.,  1.,  1.,  1.,\n",
       "        1.,  1.,  1.,  1.,  1.,  1.,  1.,  1.,  1.,  1.,  1.,  1.,  1.,\n",
       "        1.,  1.,  1.,  1.,  1.,  1.,  1.,  1.,  1.,  1.,  1.,  1.,  1.,\n",
       "        1.,  1.,  1.,  1.,  1.,  1.,  1.])"
      ]
     },
     "execution_count": 51,
     "metadata": {},
     "output_type": "execute_result"
    }
   ],
   "source": [
    "from sklearn import preprocessing\n",
    "\n",
    "normalized_X = preprocessing.normalize(iris.data)\n",
    "print(normalized_X[:10])\n",
    "norm_vec=normalized_X[:,0]**2.0+normalized_X[:,1]**2.0+normalized_X[:,2]**2.0+normalized_X[:,3]**2.0\n",
    "#The Normalizer rescales the vector for each sample to have unit norm, independently of the distribution of the samples.\n",
    "norm_vec"
   ]
  },
  {
   "cell_type": "code",
   "execution_count": 47,
   "metadata": {
    "scrolled": true
   },
   "outputs": [
    {
     "data": {
      "text/html": [
       "<div>\n",
       "<style>\n",
       "    .dataframe thead tr:only-child th {\n",
       "        text-align: right;\n",
       "    }\n",
       "\n",
       "    .dataframe thead th {\n",
       "        text-align: left;\n",
       "    }\n",
       "\n",
       "    .dataframe tbody tr th {\n",
       "        vertical-align: top;\n",
       "    }\n",
       "</style>\n",
       "<table border=\"1\" class=\"dataframe\">\n",
       "  <thead>\n",
       "    <tr style=\"text-align: right;\">\n",
       "      <th></th>\n",
       "      <th>0</th>\n",
       "      <th>1</th>\n",
       "      <th>2</th>\n",
       "      <th>3</th>\n",
       "    </tr>\n",
       "  </thead>\n",
       "  <tbody>\n",
       "    <tr>\n",
       "      <th>count</th>\n",
       "      <td>150.000000</td>\n",
       "      <td>150.000000</td>\n",
       "      <td>150.000000</td>\n",
       "      <td>150.000000</td>\n",
       "    </tr>\n",
       "    <tr>\n",
       "      <th>mean</th>\n",
       "      <td>0.751621</td>\n",
       "      <td>0.404780</td>\n",
       "      <td>0.454958</td>\n",
       "      <td>0.140965</td>\n",
       "    </tr>\n",
       "    <tr>\n",
       "      <th>std</th>\n",
       "      <td>0.044619</td>\n",
       "      <td>0.105087</td>\n",
       "      <td>0.159747</td>\n",
       "      <td>0.078136</td>\n",
       "    </tr>\n",
       "    <tr>\n",
       "      <th>min</th>\n",
       "      <td>0.653877</td>\n",
       "      <td>0.238392</td>\n",
       "      <td>0.167836</td>\n",
       "      <td>0.014727</td>\n",
       "    </tr>\n",
       "    <tr>\n",
       "      <th>25%</th>\n",
       "      <td>0.715261</td>\n",
       "      <td>0.326738</td>\n",
       "      <td>0.250925</td>\n",
       "      <td>0.048734</td>\n",
       "    </tr>\n",
       "    <tr>\n",
       "      <th>50%</th>\n",
       "      <td>0.754883</td>\n",
       "      <td>0.354371</td>\n",
       "      <td>0.536367</td>\n",
       "      <td>0.164148</td>\n",
       "    </tr>\n",
       "    <tr>\n",
       "      <th>75%</th>\n",
       "      <td>0.788419</td>\n",
       "      <td>0.525237</td>\n",
       "      <td>0.580025</td>\n",
       "      <td>0.197532</td>\n",
       "    </tr>\n",
       "    <tr>\n",
       "      <th>max</th>\n",
       "      <td>0.860939</td>\n",
       "      <td>0.607125</td>\n",
       "      <td>0.636981</td>\n",
       "      <td>0.280419</td>\n",
       "    </tr>\n",
       "  </tbody>\n",
       "</table>\n",
       "</div>"
      ],
      "text/plain": [
       "                0           1           2           3\n",
       "count  150.000000  150.000000  150.000000  150.000000\n",
       "mean     0.751621    0.404780    0.454958    0.140965\n",
       "std      0.044619    0.105087    0.159747    0.078136\n",
       "min      0.653877    0.238392    0.167836    0.014727\n",
       "25%      0.715261    0.326738    0.250925    0.048734\n",
       "50%      0.754883    0.354371    0.536367    0.164148\n",
       "75%      0.788419    0.525237    0.580025    0.197532\n",
       "max      0.860939    0.607125    0.636981    0.280419"
      ]
     },
     "execution_count": 47,
     "metadata": {},
     "output_type": "execute_result"
    }
   ],
   "source": [
    "import pandas as pd\n",
    "df=pd.DataFrame(normalized_X)\n",
    "df.describe()"
   ]
  },
  {
   "cell_type": "markdown",
   "metadata": {},
   "source": [
    "Now all the columns are in the range between 0 and 1. Would clustering the dataset after this transformation lead to a better clustering? (one that better matches the original labels of the samples)"
   ]
  },
  {
   "cell_type": "code",
   "execution_count": 17,
   "metadata": {},
   "outputs": [
    {
     "name": "stdout",
     "output_type": "stream",
     "text": [
      "Scores: \n",
      "Ward: 0.885697031028 \n",
      "Complete:  0.644447235392 \n",
      "Average:  0.558371443754\n"
     ]
    }
   ],
   "source": [
    "ward = AgglomerativeClustering(n_clusters=3)\n",
    "ward_pred = ward.fit_predict(normalized_X)\n",
    "\n",
    "complete = AgglomerativeClustering(n_clusters=3, linkage=\"complete\")\n",
    "complete_pred = complete.fit_predict(normalized_X)\n",
    "\n",
    "avg = AgglomerativeClustering(n_clusters=3, linkage=\"average\")\n",
    "avg_pred = avg.fit_predict(normalized_X)\n",
    "\n",
    "\n",
    "ward_ar_score = adjusted_rand_score(iris.target, ward_pred)\n",
    "complete_ar_score = adjusted_rand_score(iris.target, complete_pred)\n",
    "avg_ar_score = adjusted_rand_score(iris.target, avg_pred)\n",
    "\n",
    "print( \"Scores: \\nWard:\", ward_ar_score,\"\\nComplete: \", complete_ar_score, \"\\nAverage: \", avg_ar_score)"
   ]
  },
  {
   "cell_type": "code",
   "execution_count": 57,
   "metadata": {},
   "outputs": [
    {
     "data": {
      "text/plain": [
       "array([ 1.,  1.,  1.,  1.,  1.,  1.,  1.,  1.,  1.,  1.,  1.,  1.,  1.,\n",
       "        1.,  1.,  1.,  1.,  1.,  1.,  1.,  1.,  1.,  1.,  1.,  1.,  1.,\n",
       "        1.,  1.,  1.,  1.,  1.,  1.,  1.,  1.,  1.,  1.,  1.,  1.,  1.,\n",
       "        1.,  1.,  1.,  1.,  1.,  1.,  1.,  1.,  1.,  1.,  1.,  1.,  1.,\n",
       "        1.,  1.,  1.,  1.,  1.,  1.,  1.,  1.,  1.,  1.,  1.,  1.,  1.,\n",
       "        1.,  1.,  1.,  1.,  1.,  1.,  1.,  1.,  1.,  1.,  1.,  1.,  1.,\n",
       "        1.,  1.,  1.,  1.,  1.,  1.,  1.,  1.,  1.,  1.,  1.,  1.,  1.,\n",
       "        1.,  1.,  1.,  1.,  1.,  1.,  1.,  1.,  1.,  1.,  1.,  1.,  1.,\n",
       "        1.,  1.,  1.,  1.,  1.,  1.,  1.,  1.,  1.,  1.,  1.,  1.,  1.,\n",
       "        1.,  1.,  1.,  1.,  1.,  1.,  1.,  1.,  1.,  1.,  1.,  1.,  1.,\n",
       "        1.,  1.,  1.,  1.,  1.,  1.,  1.,  1.,  1.,  1.,  1.,  1.,  1.,\n",
       "        1.,  1.,  1.,  1.,  1.,  1.,  1.])"
      ]
     },
     "execution_count": 57,
     "metadata": {},
     "output_type": "execute_result"
    }
   ],
   "source": [
    "from sklearn import preprocessing\n",
    "\n",
    "\n",
    "scaler = preprocessing.Normalizer()\n",
    "normalized_X_ = scaler.fit_transform(iris.data)\n",
    "norm_vec=normalized_X_[:,0]**2.0+normalized_X_[:,1]**2.0+normalized_X_[:,2]**2.0+normalized_X_[:,3]**2.0\n",
    "#The Normalizer rescales the vector for each sample to have unit norm, independently of the distribution of the samples.\n",
    "norm_vec"
   ]
  },
  {
   "cell_type": "code",
   "execution_count": 56,
   "metadata": {},
   "outputs": [
    {
     "name": "stdout",
     "output_type": "stream",
     "text": [
      "Scores: \n",
      "Ward: 0.885697031028 \n",
      "Complete:  0.644447235392 \n",
      "Average:  0.558371443754\n"
     ]
    }
   ],
   "source": [
    "ward = AgglomerativeClustering(n_clusters=3)\n",
    "ward_pred = ward.fit_predict(normalized_X_)\n",
    "\n",
    "complete = AgglomerativeClustering(n_clusters=3, linkage=\"complete\")\n",
    "complete_pred = complete.fit_predict(normalized_X_)\n",
    "\n",
    "avg = AgglomerativeClustering(n_clusters=3, linkage=\"average\")\n",
    "avg_pred = avg.fit_predict(normalized_X_)\n",
    "\n",
    "\n",
    "ward_ar_score = adjusted_rand_score(iris.target, ward_pred)\n",
    "complete_ar_score = adjusted_rand_score(iris.target, complete_pred)\n",
    "avg_ar_score = adjusted_rand_score(iris.target, avg_pred)\n",
    "\n",
    "print( \"Scores: \\nWard:\", ward_ar_score,\"\\nComplete: \", complete_ar_score, \"\\nAverage: \", avg_ar_score)"
   ]
  },
  {
   "cell_type": "code",
   "execution_count": 24,
   "metadata": {},
   "outputs": [
    {
     "data": {
      "text/plain": [
       "array([[-0.90068117,  1.03205722, -1.3412724 , -1.31297673],\n",
       "       [-1.14301691, -0.1249576 , -1.3412724 , -1.31297673],\n",
       "       [-1.38535265,  0.33784833, -1.39813811, -1.31297673],\n",
       "       [-1.50652052,  0.10644536, -1.2844067 , -1.31297673],\n",
       "       [-1.02184904,  1.26346019, -1.3412724 , -1.31297673],\n",
       "       [-0.53717756,  1.95766909, -1.17067529, -1.05003079],\n",
       "       [-1.50652052,  0.80065426, -1.3412724 , -1.18150376],\n",
       "       [-1.02184904,  0.80065426, -1.2844067 , -1.31297673],\n",
       "       [-1.74885626, -0.35636057, -1.3412724 , -1.31297673],\n",
       "       [-1.14301691,  0.10644536, -1.2844067 , -1.4444497 ]])"
      ]
     },
     "execution_count": 24,
     "metadata": {},
     "output_type": "execute_result"
    }
   ],
   "source": [
    "scaler = preprocessing.StandardScaler()\n",
    "normalized_XX = scaler.fit_transform(iris.data)\n",
    "normalized_XX[:10]\n"
   ]
  },
  {
   "cell_type": "code",
   "execution_count": 25,
   "metadata": {
    "scrolled": true
   },
   "outputs": [
    {
     "name": "stdout",
     "output_type": "stream",
     "text": [
      "Scores: \n",
      "Ward: 0.615322993215 \n",
      "Complete:  0.572630579371 \n",
      "Average:  0.562136425143\n"
     ]
    }
   ],
   "source": [
    "ward = AgglomerativeClustering(n_clusters=3)\n",
    "ward_pred = ward.fit_predict(normalized_XX)\n",
    "\n",
    "complete = AgglomerativeClustering(n_clusters=3, linkage=\"complete\")\n",
    "complete_pred = complete.fit_predict(normalized_XX)\n",
    "\n",
    "avg = AgglomerativeClustering(n_clusters=3, linkage=\"average\")\n",
    "avg_pred = avg.fit_predict(normalized_XX)\n",
    "\n",
    "\n",
    "ward_ar_score = adjusted_rand_score(iris.target, ward_pred)\n",
    "complete_ar_score = adjusted_rand_score(iris.target, complete_pred)\n",
    "avg_ar_score = adjusted_rand_score(iris.target, avg_pred)\n",
    "\n",
    "print( \"Scores: \\nWard:\", ward_ar_score,\"\\nComplete: \", complete_ar_score, \"\\nAverage: \", avg_ar_score)   #not so good"
   ]
  },
  {
   "cell_type": "code",
   "execution_count": 52,
   "metadata": {},
   "outputs": [
    {
     "data": {
      "text/plain": [
       "array([[ 0.22222222,  0.625     ,  0.06779661,  0.04166667],\n",
       "       [ 0.16666667,  0.41666667,  0.06779661,  0.04166667],\n",
       "       [ 0.11111111,  0.5       ,  0.05084746,  0.04166667],\n",
       "       [ 0.08333333,  0.45833333,  0.08474576,  0.04166667],\n",
       "       [ 0.19444444,  0.66666667,  0.06779661,  0.04166667],\n",
       "       [ 0.30555556,  0.79166667,  0.11864407,  0.125     ],\n",
       "       [ 0.08333333,  0.58333333,  0.06779661,  0.08333333],\n",
       "       [ 0.19444444,  0.58333333,  0.08474576,  0.04166667],\n",
       "       [ 0.02777778,  0.375     ,  0.06779661,  0.04166667],\n",
       "       [ 0.16666667,  0.45833333,  0.08474576,  0.        ]])"
      ]
     },
     "execution_count": 52,
     "metadata": {},
     "output_type": "execute_result"
    }
   ],
   "source": [
    "scaler = preprocessing.MinMaxScaler()\n",
    "normalized_XXX = scaler.fit_transform(iris.data)\n",
    "normalized_XXX[:10]\n"
   ]
  },
  {
   "cell_type": "code",
   "execution_count": 53,
   "metadata": {},
   "outputs": [
    {
     "name": "stdout",
     "output_type": "stream",
     "text": [
      "Scores: \n",
      "Ward: 0.719583748478 \n",
      "Complete:  0.706005967468 \n",
      "Average:  0.719583748478\n"
     ]
    }
   ],
   "source": [
    "ward = AgglomerativeClustering(n_clusters=3)\n",
    "ward_pred = ward.fit_predict(normalized_XXX)\n",
    "\n",
    "complete = AgglomerativeClustering(n_clusters=3, linkage=\"complete\")\n",
    "complete_pred = complete.fit_predict(normalized_XXX)\n",
    "\n",
    "avg = AgglomerativeClustering(n_clusters=3, linkage=\"average\")\n",
    "avg_pred = avg.fit_predict(normalized_XXX)\n",
    "\n",
    "\n",
    "ward_ar_score = adjusted_rand_score(iris.target, ward_pred)\n",
    "complete_ar_score = adjusted_rand_score(iris.target, complete_pred)\n",
    "avg_ar_score = adjusted_rand_score(iris.target, avg_pred)\n",
    "\n",
    "print( \"Scores: \\nWard:\", ward_ar_score,\"\\nComplete: \", complete_ar_score, \"\\nAverage: \", avg_ar_score)   #not so good"
   ]
  },
  {
   "cell_type": "markdown",
   "metadata": {},
   "source": [
    "## 4. Dendrogram visualization with scipy\n",
    "\n",
    "Let's visualize the highest scoring clustering result. \n",
    "\n",
    "To do that, we'll need to use Scipy's [```linkage```](https://docs.scipy.org/doc/scipy/reference/generated/scipy.cluster.hierarchy.linkage.html) function to perform the clusteirng again so we can obtain the linkage matrix it will later use to visualize the hierarchy"
   ]
  },
  {
   "cell_type": "code",
   "execution_count": 59,
   "metadata": {},
   "outputs": [],
   "source": [
    "# Import scipy's linkage function to conduct the clustering\n",
    "from scipy.cluster.hierarchy import linkage\n",
    "\n",
    "# Specify the linkage type. Scipy accepts 'ward', 'complete', 'average', as well as other values\n",
    "# Pick the one that resulted in the highest Adjusted Rand Score\n",
    "linkage_type = 'ward'\n",
    "\n",
    "linkage_matrix = linkage(normalized_X, linkage_type)"
   ]
  },
  {
   "cell_type": "markdown",
   "metadata": {},
   "source": [
    "Plot using scipy's [dendrogram](https://docs.scipy.org/doc/scipy-0.14.0/reference/generated/scipy.cluster.hierarchy.dendrogram.html) function"
   ]
  },
  {
   "cell_type": "code",
   "execution_count": 60,
   "metadata": {
    "scrolled": false
   },
   "outputs": [
    {
     "data": {
      "image/png": "[encoded data removed]",
      "text/plain": [
       "<matplotlib.figure.Figure at 0x7f78c596feb8>"
      ]
     },
     "metadata": {},
     "output_type": "display_data"
    }
   ],
   "source": [
    "from scipy.cluster.hierarchy import dendrogram\n",
    "import matplotlib.pyplot as plt\n",
    "plt.figure(figsize=(22,18))\n",
    "\n",
    "# plot using 'dendrogram()'\n",
    "dendrogram(linkage_matrix)\n",
    "\n",
    "plt.show()"
   ]
  },
  {
   "cell_type": "markdown",
   "metadata": {},
   "source": [
    "## 5. Visualization with Seaborn's ```clustermap``` \n",
    "\n",
    "The [seaborn](http://seaborn.pydata.org/index.html) plotting library for python can plot a [clustermap](http://seaborn.pydata.org/generated/seaborn.clustermap.html), which is a detailed dendrogram which also visualizes the dataset in more detail. It conducts the clustering as well, so we only need to pass it the dataset and the linkage type we want, and it will use scipy internally to conduct the clustering"
   ]
  },
  {
   "cell_type": "code",
   "execution_count": 63,
   "metadata": {
    "scrolled": false
   },
   "outputs": [
    {
     "data": {
      "image/png": "[encoded data removed]",
      "text/plain": [
       "<matplotlib.figure.Figure at 0x7f78c4f0d5c0>"
      ]
     },
     "metadata": {},
     "output_type": "display_data"
    }
   ],
   "source": [
    "import seaborn as sns\n",
    "#linkage ward\n",
    "sns.clustermap(normalized_X, figsize=(10,25), method=linkage_type, cmap='viridis')\n",
    "\n",
    "# Expand figsize to a value like (18, 50) if you want the sample labels to be readable\n",
    "# Draw back is that you'll need more scrolling to observe the dendrogram\n",
    "\n",
    "plt.show()"
   ]
  },
  {
   "cell_type": "markdown",
   "metadata": {},
   "source": [
    "Looking at the colors of the dimensions can you observe how they differ between the three type of flowers? You should at least be able to notice how one is vastly different from the two others (in the top third of the image)."
   ]
  },
  {
   "cell_type": "code",
   "execution_count": null,
   "metadata": {
    "collapsed": true
   },
   "outputs": [],
   "source": []
  }
 ],
 "metadata": {
  "anaconda-cloud": {},
  "kernelspec": {
   "display_name": "Python 3",
   "language": "python",
   "name": "python3"
  },
  "language_info": {
   "codemirror_mode": {
    "name": "ipython",
    "version": 3
   },
   "file_extension": ".py",
   "mimetype": "text/x-python",
   "name": "python",
   "nbconvert_exporter": "python",
   "pygments_lexer": "ipython3",
   "version": "3.6.3"
  }
 },
 "nbformat": 4,
 "nbformat_minor": 1
}
