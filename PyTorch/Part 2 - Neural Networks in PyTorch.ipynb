{
 "cells": [
  {
   "cell_type": "markdown",
   "metadata": {},
   "source": [
    "# Neural networks with PyTorch\n",
    "\n",
    "Next I'll show you how to build a neural network with PyTorch."
   ]
  },
  {
   "cell_type": "code",
   "execution_count": 217,
   "metadata": {},
   "outputs": [],
   "source": [
    "# Import things like usual\n",
    "\n",
    "%matplotlib inline\n",
    "%config InlineBackend.figure_format = 'retina'\n",
    "\n",
    "import numpy as np\n",
    "import torch\n",
    "\n",
    "import helper\n",
    "\n",
    "import matplotlib.pyplot as plt                    \n",
    "from torchvision import datasets, transforms  \n",
    "\n",
    "\n",
    "#to make this torch vision work\n",
    "\n",
    "\n",
    "# conda install -c peterjc123 pytorch\n",
    "# pip install torchvision\n",
    "# pip install --upgrade Pillow\n",
    "# conda install -c peterjc123 vc"
   ]
  },
  {
   "cell_type": "markdown",
   "metadata": {},
   "source": [
    "First up, we need to get our dataset. This is provided through the `torchvision` package. The code below will download the MNIST dataset, then create training and test datasets for us. Don't worry too much about the details here, you'll learn more about this later."
   ]
  },
  {
   "cell_type": "code",
   "execution_count": 218,
   "metadata": {},
   "outputs": [],
   "source": [
    "# Define a transform to normalize the data\n",
    "transform = transforms.Compose([transforms.ToTensor(),\n",
    "                              transforms.Normalize((0.5, 0.5, 0.5), (0.5, 0.5, 0.5)),\n",
    "                             ])\n",
    "# Download and load the training data\n",
    "trainset = datasets.MNIST('MNIST_data/', download=True, train=True, transform=transform)\n",
    "trainloader = torch.utils.data.DataLoader(trainset, batch_size=64, shuffle=True)\n",
    "\n",
    "# Download and load the test data\n",
    "testset = datasets.MNIST('MNIST_data/', download=True, train=False, transform=transform)\n",
    "testloader = torch.utils.data.DataLoader(testset, batch_size=64, shuffle=True)"
   ]
  },
  {
   "cell_type": "code",
   "execution_count": 236,
   "metadata": {},
   "outputs": [],
   "source": [
    "dataiter = iter(trainloader)\n",
    "images, labels = dataiter.next()"
   ]
  },
  {
   "cell_type": "markdown",
   "metadata": {},
   "source": [
    "We have the training data loaded into `trainloader` and we make that an iterator with `iter(trainloader)`. We'd use this to loop through the dataset for training, but here I'm just grabbing the first batch so we can check out the data. We can see below that `images` is just a tensor with size (64, 1, 28, 28). So, 64 images per batch, 1 color channel, and 28x28 images."
   ]
  },
  {
   "cell_type": "code",
   "execution_count": 172,
   "metadata": {},
   "outputs": [
    {
     "data": {
      "image/png": "[encoded data removed]",
      "text/plain": [
       "<Figure size 432x288 with 1 Axes>"
      ]
     },
     "metadata": {
      "image/png": {
       "height": 250,
       "width": 253
      }
     },
     "output_type": "display_data"
    }
   ],
   "source": [
    "plt.imshow(images[1].numpy().squeeze(), cmap='Greys_r');"
   ]
  },
  {
   "cell_type": "markdown",
   "metadata": {},
   "source": [
    "## Building networks with PyTorch\n",
    "\n",
    "Here I'll use PyTorch to build a simple feedfoward network to classify the MNIST images. That is, the network will receive a digit image as input and predict the digit in the image.\n",
    "\n",
    "<img src=\"assets/mlp_mnist.png\" width=600px>\n",
    "\n",
    "To build a neural network with PyTorch, you use the `torch.nn` module. The network itself is a class inheriting from `torch.nn.Module`. You define each of the operations separately, like `nn.Linear(784, 128)` for a fully connected linear layer with 784 inputs and 128 units.\n",
    "\n",
    "The class needs to include a `forward` method that implements the forward pass through the network. In this method, you pass some input tensor `x` through each of the operations you defined earlier. The `torch.nn` module also has functional equivalents for things like ReLUs in `torch.nn.functional`. This module is usually imported as `F`. Then to use a ReLU activation on some layer (which is just a tensor), you'd do `F.relu(x)`. Below are a few different commonly used activation functions.\n",
    "\n",
    "<img src=\"assets/activation.png\" width=700px>\n",
    "\n",
    "So, for this network, I'll build it with three fully connected layers, then a softmax output for predicting classes. The softmax function is similar to the sigmoid in that it squashes inputs between 0 and 1, but it's also normalized so that all the values sum to one like a proper probability distribution."
   ]
  },
  {
   "cell_type": "code",
   "execution_count": 220,
   "metadata": {},
   "outputs": [],
   "source": [
    "from torch import nn\n",
    "from torch import optim\n",
    "import torch.nn.functional as F"
   ]
  },
  {
   "cell_type": "code",
   "execution_count": 228,
   "metadata": {
    "scrolled": true
   },
   "outputs": [
    {
     "data": {
      "text/plain": [
       "Network(\n",
       "  (fc1): Linear(in_features=784, out_features=128, bias=True)\n",
       "  (fc2): Linear(in_features=128, out_features=64, bias=True)\n",
       "  (fc3): Linear(in_features=64, out_features=10, bias=True)\n",
       ")"
      ]
     },
     "execution_count": 228,
     "metadata": {},
     "output_type": "execute_result"
    }
   ],
   "source": [
    "class Network(nn.Module):\n",
    "    def __init__(self):\n",
    "        super().__init__()\n",
    "        # Defining the layers, 128, 64, 10 units each\n",
    "        self.fc1 = nn.Linear(784, 128)\n",
    "        self.fc2 = nn.Linear(128, 64)\n",
    "        # Output layer, 10 units - one for each digit\n",
    "        self.fc3 = nn.Linear(64, 10)\n",
    "        \n",
    "    def forward(self, x):\n",
    "        ''' Forward pass through the network, returns the output logits '''\n",
    "        #x = x.type(torch.FloatTensor)\n",
    "        #x = Variable(x).view(1,1,input_size)\n",
    "        \n",
    "        #x = Variable(torch.randn(N, D_in)) \n",
    "        #y = Variable(torch.randn(N, D_out))\n",
    "        x=torch.autograd.Variable(x)\n",
    "        x = self.fc1(x)\n",
    "        x = F.relu(x)\n",
    "        x = self.fc2(x)\n",
    "        x = F.relu(x)\n",
    "        x = self.fc3(x)\n",
    "        x = F.softmax(x, dim=1)   #dim =1 means outputsize from a vector of [input_size,output_size] \n",
    "        \n",
    "        return x\n",
    "\n",
    "model = Network()\n",
    "model"
   ]
  },
  {
   "cell_type": "markdown",
   "metadata": {},
   "source": [
    "### Initializing weights and biases\n",
    "\n",
    "The weights and such are automatically initialized for you, but it's possible to customize how they are initialized. The weights and biases are tensors attached to the layer you defined, you can get them with `model.fc1.weight` for instance."
   ]
  },
  {
   "cell_type": "code",
   "execution_count": 175,
   "metadata": {},
   "outputs": [
    {
     "name": "stdout",
     "output_type": "stream",
     "text": [
      "Parameter containing:\n",
      " 1.9981e-02  1.2431e-02 -2.1894e-02  ...   2.2993e-02 -2.3380e-02 -3.3183e-02\n",
      " 7.2392e-04  1.9834e-02 -2.1533e-02  ...  -2.2398e-02 -1.8268e-02 -2.5546e-04\n",
      "-2.2094e-02  3.3979e-02 -4.0841e-03  ...  -1.8071e-02  3.2152e-02 -9.2413e-03\n",
      "                ...                   ⋱                   ...                \n",
      " 1.0717e-03 -2.4434e-02 -2.5404e-02  ...   1.0727e-02  2.4895e-02  1.1461e-02\n",
      " 3.4436e-02  3.4340e-02  2.0782e-02  ...  -2.0963e-02 -2.6645e-02 -6.0252e-03\n",
      " 4.5188e-03 -2.7714e-02 -1.6533e-02  ...   3.1196e-02  7.4171e-03  6.1126e-03\n",
      "[torch.FloatTensor of size 128x784]\n",
      "\n",
      "Parameter containing:\n",
      "1.00000e-02 *\n",
      "  0.5508\n",
      " -0.0800\n",
      "  0.4088\n",
      "  2.6455\n",
      " -1.6741\n",
      " -2.0016\n",
      " -0.9067\n",
      "  0.7239\n",
      " -2.9653\n",
      " -2.8696\n",
      " -0.3224\n",
      "  1.8648\n",
      "  1.4188\n",
      " -0.8433\n",
      "  2.5646\n",
      "  0.6132\n",
      "  2.5417\n",
      " -1.2002\n",
      " -2.8525\n",
      "  3.4020\n",
      " -1.5060\n",
      "  0.8068\n",
      " -2.1937\n",
      " -0.7201\n",
      " -2.0623\n",
      "  3.4228\n",
      "  1.0377\n",
      "  1.6618\n",
      " -2.1640\n",
      " -0.5914\n",
      "  2.9203\n",
      " -1.1625\n",
      " -0.7896\n",
      " -0.7591\n",
      " -0.6032\n",
      " -3.2222\n",
      " -2.1038\n",
      "  0.4213\n",
      " -0.4741\n",
      " -0.1803\n",
      "  2.7301\n",
      " -0.6518\n",
      " -2.8055\n",
      " -0.0728\n",
      "  0.7101\n",
      " -1.4195\n",
      " -3.1603\n",
      " -2.4093\n",
      " -1.5317\n",
      " -1.8211\n",
      " -2.6544\n",
      "  0.1746\n",
      " -1.9172\n",
      "  1.8475\n",
      "  3.0050\n",
      "  2.1113\n",
      " -1.8920\n",
      " -2.1339\n",
      "  0.5646\n",
      "  3.2007\n",
      " -1.9479\n",
      "  0.6677\n",
      " -3.4140\n",
      "  1.7960\n",
      " -2.7343\n",
      "  0.1498\n",
      "  0.0470\n",
      "  1.2039\n",
      "  1.6100\n",
      " -2.1195\n",
      "  0.7595\n",
      "  2.9097\n",
      " -0.8153\n",
      "  1.6885\n",
      "  1.2348\n",
      "  0.2840\n",
      " -2.4432\n",
      "  3.0114\n",
      " -0.3895\n",
      "  2.3747\n",
      " -1.3405\n",
      "  1.4495\n",
      "  1.5289\n",
      " -0.4082\n",
      "  0.6044\n",
      "  1.5954\n",
      "  0.3890\n",
      "  1.4610\n",
      " -0.7780\n",
      " -1.5291\n",
      "  3.4281\n",
      "  3.2433\n",
      "  2.6600\n",
      "  1.2200\n",
      " -0.8935\n",
      "  0.8600\n",
      "  1.1032\n",
      "  2.5626\n",
      " -0.9165\n",
      "  3.4969\n",
      " -3.2701\n",
      "  0.1642\n",
      " -0.0256\n",
      " -2.1642\n",
      "  0.5428\n",
      "  1.3378\n",
      "  1.6202\n",
      "  0.5891\n",
      "  3.2130\n",
      "  1.3647\n",
      "  1.6922\n",
      " -0.7315\n",
      "  0.5018\n",
      "  0.5491\n",
      " -2.0683\n",
      " -0.1982\n",
      "  1.8081\n",
      "  2.8403\n",
      " -0.5384\n",
      "  2.6161\n",
      "  1.7969\n",
      " -1.5496\n",
      " -0.1020\n",
      " -2.2311\n",
      " -2.8011\n",
      " -2.4108\n",
      " -0.2055\n",
      "  0.5202\n",
      "[torch.FloatTensor of size 128]\n",
      "\n"
     ]
    }
   ],
   "source": [
    "print(model.fc1.weight)\n",
    "print(model.fc1.bias)"
   ]
  },
  {
   "cell_type": "markdown",
   "metadata": {},
   "source": [
    "For custom initialization, we want to modify these tensors in place. These are actually autograd *Variables*, so we need to get back the actual tensors with `model.fc1.weight.data`. Once we have the tensors, we can fill them with zeros (for biases) or random normal values."
   ]
  },
  {
   "cell_type": "code",
   "execution_count": 176,
   "metadata": {},
   "outputs": [],
   "source": [
    "# Set biases to all zeros\n",
    "#model.fc1.bias.data.fill_(0)"
   ]
  },
  {
   "cell_type": "code",
   "execution_count": 177,
   "metadata": {},
   "outputs": [],
   "source": [
    "# sample from random normal with standard dev = 0.01\n",
    "#model.fc1.weight.data.normal_(std=0.01)"
   ]
  },
  {
   "cell_type": "markdown",
   "metadata": {},
   "source": [
    "### Forward pass\n",
    "\n",
    "Now that we have a network, let's see what happens when we pass in an image. This is called the forward pass. We're going to convert the image data into a tensor, then pass it through the operations defined by the network architecture."
   ]
  },
  {
   "cell_type": "code",
   "execution_count": 207,
   "metadata": {},
   "outputs": [],
   "source": [
    "# # Grab some data \n",
    "# dataiter = iter(trainloader)   #batch of 64\n",
    "# images, labels = dataiter.next()  #every time get the next batch  64 sample\n",
    "# #print(images.size())  torch.Size([64, 1, 28, 28])\n",
    "# # Resize images into a 1D vector, new shape is (batch size, color channels, image pixels) \n",
    "# images.resize_(64, 1, 784)\n",
    "# # or images.resize_(images.shape[0], 1, 784) to not automatically get batch size\n",
    "\n",
    "# # Forward pass through the network\n",
    "# img_idx = 0\n",
    "\n",
    "# #a=torch.autograd.Variable(images)\n",
    "# #ps = model.forward(a[img_idx,:])\n",
    "\n",
    "# temp_=torch.autograd.Variable(images[img_idx,:])\n",
    "# ps = model.forward(temp_)   # had to convert images into variable to be able to go through forward done inside forward\n",
    "# #ps = model.forward(temp_[img_idx,:])\n",
    "# img = images[img_idx]\n",
    "# helper.view_classify(img.view(1, 28, 28), ps)"
   ]
  },
  {
   "cell_type": "code",
   "execution_count": 229,
   "metadata": {},
   "outputs": [
    {
     "data": {
      "image/png": "[encoded data removed]",
      "text/plain": [
       "<Figure size 432x648 with 2 Axes>"
      ]
     },
     "metadata": {
      "image/png": {
       "height": 224,
       "width": 423
      }
     },
     "output_type": "display_data"
    }
   ],
   "source": [
    "# Grab some data    This part is by changing forward and put variable there\n",
    "#dataiter = iter(trainloader)   #batch of 64\n",
    "#images, labels = dataiter.next()  #every time get the next batch  64 sample\n",
    "images, labels = next(iter(trainloader))\n",
    "\n",
    "#print(images.size())  torch.Size([64, 1, 28, 28])\n",
    "# Resize images into a 1D vector, new shape is (batch size, color channels, image pixels) \n",
    "images.resize_(64, 1, 784)\n",
    "# or images.resize_(images.shape[0], 1, 784) to not automatically get batch size\n",
    "\n",
    "# Forward pass through the network\n",
    "img_idx = 10\n",
    "\n",
    "#a=torch.autograd.Variable(images)\n",
    "#ps = model.forward(a[img_idx,:])\n",
    "\n",
    "#temp_=torch.autograd.Variable(images[img_idx,:])\n",
    "#ps = model.forward(temp_)   # had to convert images into variable to be able to go through forward done inside forward\n",
    "ps = model.forward(images[img_idx,:])   #this forward gets the data from subroutime above\n",
    "img = images[img_idx]\n",
    "helper.view_classify(img.view(1, 28, 28), ps)"
   ]
  },
  {
   "cell_type": "markdown",
   "metadata": {},
   "source": [
    "As you can see above, our network has basically no idea what this digit is. It's because we haven't trained it yet, all the weights are random!\n",
    "\n",
    "PyTorch provides a convenient way to build networks like this where a tensor is passed sequentially through operations, `nn.Sequential` ([documentation](https://pytorch.org/docs/master/nn.html#torch.nn.Sequential)). Using this to build the equivalent network:"
   ]
  },
  {
   "cell_type": "code",
   "execution_count": 222,
   "metadata": {},
   "outputs": [
    {
     "name": "stdout",
     "output_type": "stream",
     "text": [
      "Sequential(\n",
      "  (0): Linear(in_features=784, out_features=128, bias=True)\n",
      "  (1): ReLU()\n",
      "  (2): Linear(in_features=128, out_features=64, bias=True)\n",
      "  (3): ReLU()\n",
      "  (4): Linear(in_features=64, out_features=10, bias=True)\n",
      "  (5): Softmax()\n",
      ")\n"
     ]
    },
    {
     "data": {
      "image/png": "[encoded data removed]",
      "text/plain": [
       "<Figure size 432x648 with 2 Axes>"
      ]
     },
     "metadata": {
      "image/png": {
       "height": 224,
       "width": 423
      }
     },
     "output_type": "display_data"
    }
   ],
   "source": [
    "# Hyperparameters for our network\n",
    "input_size = 784\n",
    "hidden_sizes = [128, 64]\n",
    "output_size = 10\n",
    "\n",
    "# Build a feed-forward network\n",
    "model = nn.Sequential(nn.Linear(input_size, hidden_sizes[0]),\n",
    "                      nn.ReLU(),\n",
    "                      nn.Linear(hidden_sizes[0], hidden_sizes[1]),\n",
    "                      nn.ReLU(),\n",
    "                      nn.Linear(hidden_sizes[1], output_size),\n",
    "                      nn.Softmax(dim=1))\n",
    "print(model)\n",
    "\n",
    "# Forward pass through the network and display output\n",
    "images, labels = next(iter(trainloader))\n",
    "images.resize_(images.shape[0], 1, 784)\n",
    "a=torch.autograd.Variable(images)\n",
    "ps = model.forward(a[0,:])     #don't think this is the same forward as subroutine above, so had to add variable before it\n",
    "helper.view_classify(images[0].view(1, 28, 28), ps)"
   ]
  },
  {
   "cell_type": "markdown",
   "metadata": {},
   "source": [
    "You can also pass in an `OrderedDict` to name the individual layers and operations. Note that a dictionary keys must be unique, so _each operation must have a different name_."
   ]
  },
  {
   "cell_type": "code",
   "execution_count": 223,
   "metadata": {},
   "outputs": [
    {
     "data": {
      "text/plain": [
       "Sequential(\n",
       "  (fc1): Linear(in_features=784, out_features=128, bias=True)\n",
       "  (relu1): ReLU()\n",
       "  (fc2): Linear(in_features=128, out_features=64, bias=True)\n",
       "  (relu2): ReLU()\n",
       "  (output): Linear(in_features=64, out_features=10, bias=True)\n",
       "  (softmax): Softmax()\n",
       ")"
      ]
     },
     "execution_count": 223,
     "metadata": {},
     "output_type": "execute_result"
    }
   ],
   "source": [
    "from collections import OrderedDict\n",
    "model = nn.Sequential(OrderedDict([\n",
    "                      ('fc1', nn.Linear(input_size, hidden_sizes[0])),\n",
    "                      ('relu1', nn.ReLU()),\n",
    "                      ('fc2', nn.Linear(hidden_sizes[0], hidden_sizes[1])),\n",
    "                      ('relu2', nn.ReLU()),\n",
    "                      ('output', nn.Linear(hidden_sizes[1], output_size)),\n",
    "                      ('softmax', nn.Softmax(dim=1))]))\n",
    "model"
   ]
  },
  {
   "cell_type": "markdown",
   "metadata": {},
   "source": [
    "Now it's your turn to build a simple network, use any method I've covered so far. In the next notebook, you'll learn how to train a network so it can make good predictions.\n",
    "\n",
    ">**Exercise:** Build a network to classify the MNIST images with _three_ hidden layers. Use 400 units in the first hidden layer, 200 units in the second layer, and 100 units in the third layer. Each hidden layer should have a ReLU activation function, and use softmax on the output layer. "
   ]
  },
  {
   "cell_type": "code",
   "execution_count": 232,
   "metadata": {},
   "outputs": [
    {
     "data": {
      "text/plain": [
       "Sequential(\n",
       "  (fc1): Linear(in_features=784, out_features=400, bias=True)\n",
       "  (relu1): ReLU()\n",
       "  (fc2): Linear(in_features=400, out_features=200, bias=True)\n",
       "  (relu2): ReLU()\n",
       "  (fc3): Linear(in_features=200, out_features=100, bias=True)\n",
       "  (relu3): ReLU()\n",
       "  (output): Linear(in_features=100, out_features=10, bias=True)\n",
       "  (softmax): Softmax()\n",
       ")"
      ]
     },
     "execution_count": 232,
     "metadata": {},
     "output_type": "execute_result"
    }
   ],
   "source": [
    "## TODO: Your network here\n",
    "\n",
    "# Hyperparameters for our network\n",
    "input_size = 784\n",
    "hidden_sizes = [400, 200,100]\n",
    "output_size = 10\n",
    "\n",
    "# Build a feed-forward network\n",
    "model2 = nn.Sequential(nn.Linear(input_size, hidden_sizes[0]),  # 784*400\n",
    "                      nn.ReLU(),\n",
    "                      nn.Linear(hidden_sizes[0], hidden_sizes[1]),    # 400*200\n",
    "                      nn.ReLU(),\n",
    "                      nn.Linear(hidden_sizes[1], hidden_sizes[2]),    # 200*100\n",
    "                      nn.ReLU(),                      \n",
    "                      nn.Linear(hidden_sizes[2], output_size),        #100*10    \n",
    "                      nn.Softmax(dim=1))  #dim =1 means output_size from a vector of [input_size,output_size] \n",
    "\n",
    "from collections import OrderedDict\n",
    "model2 = nn.Sequential(OrderedDict([\n",
    "                      ('fc1', nn.Linear(input_size, hidden_sizes[0])),\n",
    "                      ('relu1', nn.ReLU()),\n",
    "                      ('fc2', nn.Linear(hidden_sizes[0], hidden_sizes[1])),\n",
    "                      ('relu2', nn.ReLU()),\n",
    "                      ('fc3', nn.Linear(hidden_sizes[1], hidden_sizes[2])),\n",
    "                      ('relu3', nn.ReLU()),    \n",
    "                      ('output', nn.Linear(hidden_sizes[2], output_size)),\n",
    "                      ('softmax', nn.Softmax(dim=1))]))\n",
    "model2"
   ]
  },
  {
   "cell_type": "code",
   "execution_count": 233,
   "metadata": {},
   "outputs": [
    {
     "data": {
      "image/png": "[encoded data removed]",
      "text/plain": [
       "<Figure size 432x648 with 2 Axes>"
      ]
     },
     "metadata": {
      "image/png": {
       "height": 224,
       "width": 423
      }
     },
     "output_type": "display_data"
    }
   ],
   "source": [
    "## Run this cell with your model to make sure it works ##\n",
    "# Forward pass through the network and display output\n",
    "images, labels = next(iter(trainloader))\n",
    "images.resize_(images.shape[0], 1, 784)\n",
    "\n",
    "ps = model2.forward(torch.autograd.Variable(images[0,:]))\n",
    "helper.view_classify(images[0].view(1, 28, 28), ps)"
   ]
  },
  {
   "cell_type": "code",
   "execution_count": null,
   "metadata": {},
   "outputs": [],
   "source": []
  }
 ],
 "metadata": {
  "kernelspec": {
   "display_name": "Python [default]",
   "language": "python",
   "name": "python3"
  },
  "language_info": {
   "codemirror_mode": {
    "name": "ipython",
    "version": 3
   },
   "file_extension": ".py",
   "mimetype": "text/x-python",
   "name": "python",
   "nbconvert_exporter": "python",
   "pygments_lexer": "ipython3",
   "version": "3.6.4"
  }
 },
 "nbformat": 4,
 "nbformat_minor": 2
}
